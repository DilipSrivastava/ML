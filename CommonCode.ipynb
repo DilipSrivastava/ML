{
 "cells": [
  {
   "cell_type": "markdown",
   "id": "76489d07-0100-4b80-9db3-29e961511d6f",
   "metadata": {},
   "source": [
    "### The Below code will not Run Here.Use this code and change the DataFram accordinly.\n",
    "========================================================================================="
   ]
  },
  {
   "cell_type": "markdown",
   "id": "85c21959-110f-4c38-89b3-ed6c90a1aa74",
   "metadata": {},
   "source": [
    "#####  import Data Set from Local System"
   ]
  },
  {
   "cell_type": "code",
   "execution_count": null,
   "id": "d7e13736-949b-49ba-9fed-775108de655f",
   "metadata": {},
   "outputs": [],
   "source": [
    "bankloans = pd.read_csv( 'H:\\\\AI-DataFrame\\\\EcomDataFrame\\\\bankloans-05-10-24.csv' )\n",
    "bankloans"
   ]
  },
  {
   "cell_type": "markdown",
   "id": "b85da61d-f1a5-4c1e-9109-5020b136074a",
   "metadata": {},
   "source": [
    "##### Deal with Null Values"
   ]
  },
  {
   "cell_type": "code",
   "execution_count": null,
   "id": "76ac57fe-c4d1-472e-8efa-f5320ceb98ab",
   "metadata": {},
   "outputs": [],
   "source": [
    "bankloans_existing = bankloans_num[bankloans_num.default.isnull()==0]\n",
    "bankloans_new = bankloans_num[bankloans_num.default.isnull()==1]\n",
    "bankloans_existing"
   ]
  },
  {
   "cell_type": "markdown",
   "id": "45692ec7-0d2a-4d67-a764-2038fbd479eb",
   "metadata": {},
   "source": [
    "##### Creating Data audit Report\n",
    "##### Use a general function that returns multiple values"
   ]
  },
  {
   "cell_type": "code",
   "execution_count": null,
   "id": "34369392-2508-491b-b35e-8431d7eac2f4",
   "metadata": {},
   "outputs": [],
   "source": [
    "def var_summary(x):\n",
    "    return pd.Series([x.count(), x.isnull().sum(), x.sum(), x.mean(), x.median(),  x.std(), x.var(), x.min(), x.dropna().quantile(0.01), x.dropna().quantile(0.05),x.dropna().quantile(0.10),x.dropna().quantile(0.25),x.dropna().quantile(0.50),x.dropna().quantile(0.75), x.dropna().quantile(0.90),x.dropna().quantile(0.95), x.dropna().quantile(0.99),x.max()],\n",
    "                  index=['N', 'NMISS', 'SUM', 'MEAN','MEDIAN', 'STD', 'VAR', 'MIN', 'P1' , 'P5' ,'P10' ,'P25' ,'P50' ,'P75' ,'P90' ,'P95' ,'P99' ,'MAX'])\n",
    "\n",
    "num_summary=bankloans_num.apply(lambda x: var_summary(x)).T\n",
    "num_summary"
   ]
  },
  {
   "cell_type": "markdown",
   "id": "647deab0-d5d4-4c0c-8733-9f320f7ea8d5",
   "metadata": {},
   "source": [
    "### How to find a specific Row based on Condition"
   ]
  },
  {
   "cell_type": "code",
   "execution_count": null,
   "id": "3f14f532-3c67-47fc-bc0f-f6d384bca7c8",
   "metadata": {},
   "outputs": [],
   "source": [
    "FinalDF['locality'].value_counts()\n",
    "row = FinalDF[FinalDF['longitude'] == -74.7689]\n",
    "row"
   ]
  },
  {
   "cell_type": "markdown",
   "id": "38c9cadf-9bfd-4b31-a63b-11a5455af913",
   "metadata": {},
   "source": [
    "#### Drop a colum from Dataframe (axis=1 means coumn)"
   ]
  },
  {
   "cell_type": "code",
   "execution_count": null,
   "id": "e8fd3f0e-a0e9-4e0c-9caf-97e8905bfedb",
   "metadata": {},
   "outputs": [],
   "source": [
    "aaa= df.drop(['B', 'C'], axis=1) = drop multiple columns\n",
    "aaa= dr.drop([], axis=1) ---> Drop one column"
   ]
  },
  {
   "cell_type": "markdown",
   "id": "77efc29a-a7ae-43e3-a9e5-a24cf922550a",
   "metadata": {},
   "source": [
    "#### Find duplicate entry and on basis or unique field"
   ]
  },
  {
   "cell_type": "code",
   "execution_count": null,
   "id": "95adfc4d-83d0-4bab-ad5c-968f63c8b61a",
   "metadata": {},
   "outputs": [],
   "source": [
    "df.duplicated().sum()\n",
    "df[\"uniqueField\"].duplicated().sum()"
   ]
  },
  {
   "cell_type": "markdown",
   "id": "ce1cdb6c-0063-4cbb-8192-c37f53964374",
   "metadata": {},
   "source": [
    "### Extract all numeric Colums from Data Fram"
   ]
  },
  {
   "cell_type": "code",
   "execution_count": null,
   "id": "2aba60ec-4cf0-4110-8041-b40075b66926",
   "metadata": {},
   "outputs": [],
   "source": [
    "def extract_categorical_columns(df):\n",
    "    categorical_df = df.select_dtypes(include=['number'])\n",
    "    return categorical_df\n",
    "Numeric_Columns = extract_categorical_columns(df)\n",
    "Numeric_Columns"
   ]
  },
  {
   "cell_type": "markdown",
   "id": "3efef638-2ecd-4ac8-80de-e36564536f96",
   "metadata": {},
   "source": [
    "### Extract all Categorical Colums from Data Fram"
   ]
  },
  {
   "cell_type": "code",
   "execution_count": null,
   "id": "b5f79c45-5e04-4ed5-b6f9-20dcad7f3642",
   "metadata": {},
   "outputs": [],
   "source": [
    "def extract_categorical_columns(df):\n",
    "    categorical_df = df.select_dtypes(include=['object', 'category'])\n",
    "    return categorical_df\n",
    "categorical_columns = extract_categorical_columns(df)\n",
    "categorical_columns"
   ]
  },
  {
   "cell_type": "markdown",
   "id": "2b0b4243-850e-4e2e-bae9-b374f77a37d5",
   "metadata": {},
   "source": [
    "### Find the no of uniqu values in a categorical column"
   ]
  },
  {
   "cell_type": "code",
   "execution_count": null,
   "id": "bbbaaec7-d59b-494f-b87c-319ee1055e55",
   "metadata": {},
   "outputs": [],
   "source": [
    "def find_categorical_frequencies(df):\n",
    "    categorical_columns = df.select_dtypes(include=['object', 'category']).columns\n",
    "    \n",
    "    # Create a dictionary to store frequencies\n",
    "    frequencies = {}\n",
    "    \n",
    "    for column in categorical_columns:\n",
    "        frequencies[column] = df[column].value_counts().reset_index()\n",
    "        frequencies[column].columns = ['Category', 'Frequency']  # Rename columns for clarity\n",
    "    return frequencies\n",
    "\n",
    "frequencies = find_categorical_frequencies(df)\n",
    "for column, freq_df in frequencies.items():\n",
    "    print(f\"Frequencies for '{column}':\")\n",
    "    print(freq_df)\n",
    "    print()"
   ]
  },
  {
   "cell_type": "markdown",
   "id": "244ebcbc-61fc-4cde-bc30-238b7bf64f3e",
   "metadata": {},
   "source": [
    "#### Show the missing values in %"
   ]
  },
  {
   "cell_type": "code",
   "execution_count": null,
   "id": "615198cd-70da-4314-9acc-a3977995259b",
   "metadata": {},
   "outputs": [],
   "source": [
    "missing_values = eqafterDelete.isnull().sum()/eqafterDelete.shape[0]*100\n",
    "missing_values = missing_values.apply(lambda x: f\"{x:.2f}%\")\n",
    "# missing_values"
   ]
  },
  {
   "cell_type": "markdown",
   "id": "74a8b9c2-eed2-480d-a554-984359819ec8",
   "metadata": {},
   "source": [
    "#### Replacing some thing from something"
   ]
  },
  {
   "cell_type": "code",
   "execution_count": null,
   "id": "70ce1bb1-19db-4fef-ba75-8f7ffff07b4c",
   "metadata": {},
   "outputs": [],
   "source": [
    "\n",
    "FinalDS1['sales_volume_New']=FinalDS1['sales_volume'].str.replace(' bought in past month','')"
   ]
  },
  {
   "cell_type": "markdown",
   "id": "2b0b0007-2fcd-425b-8f66-1f74a74cc5f6",
   "metadata": {},
   "source": [
    "#### Finding Unique and dropping others"
   ]
  },
  {
   "cell_type": "code",
   "execution_count": null,
   "id": "efe17aba-48e3-48a4-bbcf-088567f6918b",
   "metadata": {},
   "outputs": [],
   "source": [
    "#Keeping only unique rows\n",
    "phones[phones.duplicated(keep=False)] # this will give you list of duplicate rows\n",
    "FinalDS=phones.drop_duplicates(keep='first') # this will drop one duplicate and keep first record."
   ]
  },
  {
   "cell_type": "markdown",
   "id": "95eb0c02-4030-48c8-b081-410322067227",
   "metadata": {},
   "source": [
    "#### Replace NaN with Zero (0)"
   ]
  },
  {
   "cell_type": "code",
   "execution_count": null,
   "id": "87e63034-7b6b-4d56-b343-c219b203bbc0",
   "metadata": {},
   "outputs": [],
   "source": [
    "FinalDS1['sales_volume']=FinalDS1['sales_volume'].fillna(0)"
   ]
  },
  {
   "cell_type": "markdown",
   "id": "2a4c866a-7e46-4226-9505-326c47f0f3a3",
   "metadata": {},
   "source": [
    "#### Replace True with 1 and False with 0"
   ]
  },
  {
   "cell_type": "code",
   "execution_count": null,
   "id": "1279ccae-005f-4187-8b2a-e0ca92006012",
   "metadata": {},
   "outputs": [],
   "source": [
    "df['BooleanColumn'] = df['BooleanColumn'].replace({True: 1, False: 0})"
   ]
  },
  {
   "cell_type": "markdown",
   "id": "dd47fff1-dde5-437d-9972-60bd695d0aad",
   "metadata": {},
   "source": [
    "#### Replace blank with Mean"
   ]
  },
  {
   "cell_type": "code",
   "execution_count": 1,
   "id": "6a7b33fb-d8ed-4b4a-a836-d509d7df0623",
   "metadata": {},
   "outputs": [],
   "source": [
    "FinalDS1['sales_volume'] = FinalDS1['sales_volume'].fillna(FinalDS1['sales_volume'].mean())\n",
    "FinalDS1['Phone_Ram_Size'] = FinalDS1['Phone_Ram_Size'].replace(0, FinalDS1['Phone_Ram_Size'].mean())"
   ]
  },
  {
   "cell_type": "markdown",
   "id": "9fe9d36e-a1c0-4eb1-9627-aeeda9c1f73d",
   "metadata": {},
   "source": [
    "#### Remove comma if it comes at first charactor"
   ]
  },
  {
   "cell_type": "code",
   "execution_count": null,
   "id": "089c9d92-3c78-4cae-89df-2fe872d12243",
   "metadata": {},
   "outputs": [],
   "source": [
    "FinalDF['sources'] = FinalDF['sources'].str.lstrip(',')"
   ]
  },
  {
   "cell_type": "markdown",
   "id": "e94d8bb7-ae97-4d18-9143-fa2e15164814",
   "metadata": {},
   "source": [
    "#### Remove comma if it comes at last charactor"
   ]
  },
  {
   "cell_type": "code",
   "execution_count": null,
   "id": "208383e9-96e6-46cd-9790-055464e81ced",
   "metadata": {},
   "outputs": [],
   "source": [
    "FinalDF['sources'] = FinalDF['sources'].str.rstrip(',')"
   ]
  },
  {
   "cell_type": "markdown",
   "id": "9f3ce4ce-f653-4c52-aa66-227df6bdb912",
   "metadata": {},
   "source": [
    "#### Replacing x with Y in this case 32GB to 32"
   ]
  },
  {
   "cell_type": "code",
   "execution_count": null,
   "id": "5b488148-c3da-4c5b-9274-503c91ebf14a",
   "metadata": {},
   "outputs": [],
   "source": [
    "FinalDS1['Phone_Ram_Size']=FinalDS1['Phone_Ram_Size'].str.replace('GB','')"
   ]
  },
  {
   "cell_type": "markdown",
   "id": "9728a7e1-b91f-4992-be9e-e2f8fa94fa82",
   "metadata": {},
   "source": [
    "#### TypeCasting String to Int (32GB to 32)"
   ]
  },
  {
   "cell_type": "code",
   "execution_count": null,
   "id": "2e3fb2a5-7481-4d0f-8501-bbac21db3aac",
   "metadata": {},
   "outputs": [],
   "source": [
    "FinalDS1['Phone_Ram_Size']=FinalDS1['Phone_Ram_Size'].astype('int32')"
   ]
  },
  {
   "cell_type": "markdown",
   "id": "37c1b794-f336-41fd-8410-3c3028124ea2",
   "metadata": {},
   "source": [
    "#### Code to extrat only numeric fieds in a dataset"
   ]
  },
  {
   "cell_type": "code",
   "execution_count": null,
   "id": "e43dc917-25b8-4d2e-8858-06c11e73c1c4",
   "metadata": {},
   "outputs": [],
   "source": [
    "\n",
    "numeric_var_names=[key for key in dict(bankloans.dtypes) if dict(bankloans.dtypes)[key] in ['float64', 'int64', 'float32', 'int32']]\n",
    "cat_var_names=[key for key in dict(bankloans.dtypes) if dict(bankloans.dtypes)[key] in ['object']]\n",
    "\n",
    "print (numeric_var_names)\n",
    "print (cat_var_names)\n",
    "\n",
    "bankloans_num=bankloans[numeric_var_names]"
   ]
  },
  {
   "cell_type": "markdown",
   "id": "bbf0dc0a-fe5b-4aa0-a831-bde504997ffd",
   "metadata": {},
   "source": [
    "##### Filter Numeric and Non Numeric Fields"
   ]
  },
  {
   "cell_type": "code",
   "execution_count": null,
   "id": "25d9efe2-b591-460a-bf15-86232e511702",
   "metadata": {},
   "outputs": [],
   "source": [
    "numeric_var_names=[key for key in dict(bankloans.dtypes) if dict(bankloans.dtypes)[key] in ['float64', 'int64', 'float32', 'int32']]\n",
    "cat_var_names=[key for key in dict(bankloans.dtypes) if dict(bankloans.dtypes)[key] in ['object']]\n",
    "print (numeric_var_names)\n",
    "print (cat_var_names)"
   ]
  },
  {
   "cell_type": "markdown",
   "id": "69000205-ce49-4af3-ae76-2f9b96b8bac4",
   "metadata": {},
   "source": [
    "##### print any value up to 2 decimal points"
   ]
  },
  {
   "cell_type": "code",
   "execution_count": null,
   "id": "4e6815f0-a798-46d5-bcc4-084515ed22c3",
   "metadata": {},
   "outputs": [],
   "source": [
    "print(\"Accuracy Score ===============>> %.2f\" % accuracy)"
   ]
  },
  {
   "cell_type": "markdown",
   "id": "1434d675-cd18-42a2-aa64-b5baee1d0a2f",
   "metadata": {},
   "source": [
    "#### Code to convert any row to int ---- Try with other datatype."
   ]
  },
  {
   "cell_type": "code",
   "execution_count": null,
   "id": "8ce1be69-a4bd-4ef4-b6cd-3c7a15300314",
   "metadata": {},
   "outputs": [],
   "source": [
    "def convert_float64_to_int64(df, column_name):\n",
    "    \n",
    "    if column_name in df.columns:\n",
    "        # Convert the column to int64\n",
    "        df[column_name] = df[column_name].astype(np.int64)\n",
    "    return df\n",
    "mainPhoneDF = convert_float64_to_int64(mainPhoneDF, 'product_price')"
   ]
  },
  {
   "cell_type": "markdown",
   "id": "9599d5fa-1444-4c87-8633-95c14e6fb249",
   "metadata": {},
   "source": [
    "#### Converting To 0 & 1 for True False Fields"
   ]
  },
  {
   "cell_type": "code",
   "execution_count": null,
   "id": "709d8fe6-e409-4d26-ab48-6df1cf1a682c",
   "metadata": {},
   "outputs": [],
   "source": [
    "def replace_boolean_with_int(phones, columns):\n",
    "    for column in columns:\n",
    "        if column in phones.columns:\n",
    "            phones[column] = phones[column].replace({True: 1, False: 0})\n",
    "    return phones\n",
    "phones = replace_boolean_with_int(phones, ['is_best_seller', 'is_amazon_choice','is_prime','climate_pledge_friendly','has_variations'])"
   ]
  },
  {
   "cell_type": "markdown",
   "id": "23da71b5-7cc8-4aea-b209-1298cf707075",
   "metadata": {},
   "source": [
    "#### Find the place using latitude and longitude"
   ]
  },
  {
   "cell_type": "code",
   "execution_count": null,
   "id": "9c6ef1db-fbf9-4d0d-9451-d49e2a0fd002",
   "metadata": {},
   "outputs": [],
   "source": [
    "pip install geopy\n",
    "from geopy.geocoders import Nominatim\n",
    "geolocator = Nominatim(user_agent=\"geoapi\")\n",
    "latitude = 32.3984\n",
    "longitude = -102.044\n",
    "location = geolocator.reverse((latitude, longitude))\n",
    "print(location.address)\n",
    "# OUTPUT IS ==> Martin County, Texas, United States"
   ]
  },
  {
   "cell_type": "markdown",
   "id": "b85f679f-3600-4a3e-ac95-a92787c7ab26",
   "metadata": {},
   "source": [
    "#### Find all the repeted categories in a specific Colume"
   ]
  },
  {
   "cell_type": "code",
   "execution_count": null,
   "id": "c991a347-4836-484e-8d94-a5270a4d98c4",
   "metadata": {},
   "outputs": [],
   "source": [
    "for col in FinalDF.columns:\n",
    "    print(col, ':', len(FinalDF[col].unique()), 'Label')"
   ]
  },
  {
   "cell_type": "markdown",
   "id": "7693b3ba-ffd1-4ec2-a2dd-cbe2f51e6a51",
   "metadata": {},
   "source": [
    "#### Performo One hot encoding on a particular colume and convert in 0,1 if output is in True / False"
   ]
  },
  {
   "cell_type": "code",
   "execution_count": null,
   "id": "8b87d54c-ff1a-4f24-bfe1-f31e27623dc1",
   "metadata": {},
   "outputs": [],
   "source": [
    "#Perfoming One Hot Encoding on Alert Feature.\n",
    "one_hot = pd.get_dummies(eqafterDelete['alert'], prefix='alert')\n",
    "final = pd.concat([eqafterDelete, one_hot], axis=1)\n",
    "earthquakesDF=final.drop(columns=['alert'], axis=1)\n",
    "# earthquakesDF.sample(10)\n",
    "## Changing form True/false to 0 and 1 ===========================================================\n",
    "def replace_boolean_with_int(df, columns):\n",
    "    for column in columns:\n",
    "        if column in df.columns:\n",
    "            df[column] = df[column].replace({True: 1, False: 0})\n",
    "    return df\n",
    "earthquakesDFAfte4zero = replace_boolean_with_int(earthquakesDF, ['alert_green', 'alert_orange','alert_red','alert_yellow'])\n",
    "# earthquakesDF"
   ]
  },
  {
   "cell_type": "code",
   "execution_count": null,
   "id": "03840178-5c19-45c1-9b9a-5a95aca6715b",
   "metadata": {},
   "outputs": [],
   "source": []
  }
 ],
 "metadata": {
  "kernelspec": {
   "display_name": "Python 3 (ipykernel)",
   "language": "python",
   "name": "python3"
  },
  "language_info": {
   "codemirror_mode": {
    "name": "ipython",
    "version": 3
   },
   "file_extension": ".py",
   "mimetype": "text/x-python",
   "name": "python",
   "nbconvert_exporter": "python",
   "pygments_lexer": "ipython3",
   "version": "3.12.4"
  }
 },
 "nbformat": 4,
 "nbformat_minor": 5
}
